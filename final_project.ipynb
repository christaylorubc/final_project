{
 "cells": [
  {
   "cell_type": "markdown",
   "metadata": {},
   "source": [
    "# Final Project - Exploration of movie genre relation to gross revenue - Chris Taylor"
   ]
  },
  {
   "cell_type": "markdown",
   "metadata": {},
   "source": [
    "# Introduction\n",
    "\n",
    "## Question of interest\n",
    "I am interested in finding out which genre of Disney movie generates the highest domestic box office gross revenue using a collection of Disney datasets. I am interested to see if the genre that generates the highest gross revenue is not necessarily the genre with the most movies produced. \n",
    "\n",
    "I expect the **Musical** genre to have the highest gross revenue due to the box office success of Disney musicals, although I expect the **Musical** genre to have fewer movies produced than most genres. \n",
    "\n",
    "## Dataset description \n",
    "\n",
    "The below descriptions were taken directly from the [project](https://data.world/kgarrett/disney-character-success-00-16) where the datasets were obtained.\n",
    "\n",
    "\"This project seeks to find the relationship between box office gross and MPAA ratings in Disney movies. The common assumption is that G-rated movies generate the most revenue because the largest portion of viewers are allowed admittance to these movies, children and adults alike. Our project includes five CSVs from four different sources, all of which we found in the form of HTML tables.\n",
    "\n",
    "1. Sugarcane, “[Walt Disney Animation Studios Films](https://www.sugarcane.com/data/walt-disney-animation-studios-films-1)” - The link provides a list of Disney animated movies and the hero/villain character names in each movie.\n",
    "2. The Numbers, “[Movies Released by Walt Disney](http://www.the-numbers.com/movies/distributor/Walt-Disney)” - It is a chart and provides a list of Disney movies, and their genre, gross, and MPAA ratings.\n",
    "3. Wikipedia, “[List of Disney animated universe characters](https://en.wikipedia.org/wiki/List_of_Disney_animated_universe_characters)” - The link provides a complete list of Disney characters and their voice actors. \n",
    "4. Wikipedia, “[List of Walt Disney Animation Studios films](https://en.wikipedia.org/wiki/List_of_Walt_Disney_Animation_Studios_films)” - The link provides a list of Disney animated movies and the director of each movie.\n",
    "5. Wikipedia, “[Annual gross revenues of The Walt Disney Company](https://en.wikipedia.org/wiki/The_Walt_Disney_Company#Financial_data)” - This is a Disney financial data chart which contains annual gross revenues by sections (includes studio entertainment, parks and resorts, etc.) from 1991-2016.The data are collected from the Disney annual report.\"\n",
    "\n",
    "Each table is stored in a `.csv` file and contains information about Disney including movies, genres, ratings, revenue, characters, songs, actors and directors. I will be using the `disney_movies_total_gross` table formally described below:\n",
    "\n",
    "**disney_movies_total_gross.csv**\n",
    "* This file contains information on Disney movies from 1937 to 2016, including the movie title, the release date, the genre, the MPAA rating, the gross revenue in the release year, and the gross revenue adjusted for inflation to 2016. "
   ]
  },
  {
   "cell_type": "markdown",
   "metadata": {},
   "source": [
    "# Methods and Results\n",
    "\n",
    "Since I am only interested in analysing the genre and revenue of movies, I only need to use the **disney_movies_total_gross** table.\n",
    "\n",
    "Let's import the table and determine information about the table. "
   ]
  },
  {
   "cell_type": "code",
   "execution_count": 3,
   "metadata": {},
   "outputs": [],
   "source": [
    "# Lets import all the required libraries needed for this analysis\n",
    "import altair as alt\n",
    "import pandas as pd\n",
    "\n",
    "# import all the required files\n",
    "movie_genre_gross = pd.read_csv(\"data/disney_movies_total_gross.csv\")"
   ]
  },
  {
   "cell_type": "markdown",
   "metadata": {},
   "source": [
    "#### Table 1: Dataset for disney_movies_total_gross"
   ]
  },
  {
   "cell_type": "code",
   "execution_count": 4,
   "metadata": {},
   "outputs": [
    {
     "data": {
      "text/html": [
       "<div>\n",
       "<style scoped>\n",
       "    .dataframe tbody tr th:only-of-type {\n",
       "        vertical-align: middle;\n",
       "    }\n",
       "\n",
       "    .dataframe tbody tr th {\n",
       "        vertical-align: top;\n",
       "    }\n",
       "\n",
       "    .dataframe thead th {\n",
       "        text-align: right;\n",
       "    }\n",
       "</style>\n",
       "<table border=\"1\" class=\"dataframe\">\n",
       "  <thead>\n",
       "    <tr style=\"text-align: right;\">\n",
       "      <th></th>\n",
       "      <th>movie_title</th>\n",
       "      <th>release_date</th>\n",
       "      <th>genre</th>\n",
       "      <th>MPAA_rating</th>\n",
       "      <th>total_gross</th>\n",
       "      <th>inflation_adjusted_gross</th>\n",
       "    </tr>\n",
       "  </thead>\n",
       "  <tbody>\n",
       "    <tr>\n",
       "      <th>0</th>\n",
       "      <td>Snow White and the Seven Dwarfs</td>\n",
       "      <td>Dec 21, 1937</td>\n",
       "      <td>Musical</td>\n",
       "      <td>G</td>\n",
       "      <td>$184,925,485</td>\n",
       "      <td>$5,228,953,251</td>\n",
       "    </tr>\n",
       "    <tr>\n",
       "      <th>1</th>\n",
       "      <td>Pinocchio</td>\n",
       "      <td>Feb 9, 1940</td>\n",
       "      <td>Adventure</td>\n",
       "      <td>G</td>\n",
       "      <td>$84,300,000</td>\n",
       "      <td>$2,188,229,052</td>\n",
       "    </tr>\n",
       "    <tr>\n",
       "      <th>2</th>\n",
       "      <td>Fantasia</td>\n",
       "      <td>Nov 13, 1940</td>\n",
       "      <td>Musical</td>\n",
       "      <td>G</td>\n",
       "      <td>$83,320,000</td>\n",
       "      <td>$2,187,090,808</td>\n",
       "    </tr>\n",
       "    <tr>\n",
       "      <th>3</th>\n",
       "      <td>Song of the South</td>\n",
       "      <td>Nov 12, 1946</td>\n",
       "      <td>Adventure</td>\n",
       "      <td>G</td>\n",
       "      <td>$65,000,000</td>\n",
       "      <td>$1,078,510,579</td>\n",
       "    </tr>\n",
       "    <tr>\n",
       "      <th>4</th>\n",
       "      <td>Cinderella</td>\n",
       "      <td>Feb 15, 1950</td>\n",
       "      <td>Drama</td>\n",
       "      <td>G</td>\n",
       "      <td>$85,000,000</td>\n",
       "      <td>$920,608,730</td>\n",
       "    </tr>\n",
       "    <tr>\n",
       "      <th>...</th>\n",
       "      <td>...</td>\n",
       "      <td>...</td>\n",
       "      <td>...</td>\n",
       "      <td>...</td>\n",
       "      <td>...</td>\n",
       "      <td>...</td>\n",
       "    </tr>\n",
       "    <tr>\n",
       "      <th>574</th>\n",
       "      <td>The Light Between Oceans</td>\n",
       "      <td>Sep 2, 2016</td>\n",
       "      <td>Drama</td>\n",
       "      <td>PG-13</td>\n",
       "      <td>$12,545,979</td>\n",
       "      <td>$12,545,979</td>\n",
       "    </tr>\n",
       "    <tr>\n",
       "      <th>575</th>\n",
       "      <td>Queen of Katwe</td>\n",
       "      <td>Sep 23, 2016</td>\n",
       "      <td>Drama</td>\n",
       "      <td>PG</td>\n",
       "      <td>$8,874,389</td>\n",
       "      <td>$8,874,389</td>\n",
       "    </tr>\n",
       "    <tr>\n",
       "      <th>576</th>\n",
       "      <td>Doctor Strange</td>\n",
       "      <td>Nov 4, 2016</td>\n",
       "      <td>Adventure</td>\n",
       "      <td>PG-13</td>\n",
       "      <td>$232,532,923</td>\n",
       "      <td>$232,532,923</td>\n",
       "    </tr>\n",
       "    <tr>\n",
       "      <th>577</th>\n",
       "      <td>Moana</td>\n",
       "      <td>Nov 23, 2016</td>\n",
       "      <td>Adventure</td>\n",
       "      <td>PG</td>\n",
       "      <td>$246,082,029</td>\n",
       "      <td>$246,082,029</td>\n",
       "    </tr>\n",
       "    <tr>\n",
       "      <th>578</th>\n",
       "      <td>Rogue One: A Star Wars Story</td>\n",
       "      <td>Dec 16, 2016</td>\n",
       "      <td>Adventure</td>\n",
       "      <td>PG-13</td>\n",
       "      <td>$529,483,936</td>\n",
       "      <td>$529,483,936</td>\n",
       "    </tr>\n",
       "  </tbody>\n",
       "</table>\n",
       "<p>579 rows × 6 columns</p>\n",
       "</div>"
      ],
      "text/plain": [
       "                         movie_title  release_date      genre MPAA_rating  \\\n",
       "0    Snow White and the Seven Dwarfs  Dec 21, 1937    Musical           G   \n",
       "1                          Pinocchio   Feb 9, 1940  Adventure           G   \n",
       "2                           Fantasia  Nov 13, 1940    Musical           G   \n",
       "3                  Song of the South  Nov 12, 1946  Adventure           G   \n",
       "4                         Cinderella  Feb 15, 1950      Drama           G   \n",
       "..                               ...           ...        ...         ...   \n",
       "574         The Light Between Oceans   Sep 2, 2016      Drama       PG-13   \n",
       "575                   Queen of Katwe  Sep 23, 2016      Drama          PG   \n",
       "576                   Doctor Strange   Nov 4, 2016  Adventure       PG-13   \n",
       "577                            Moana  Nov 23, 2016  Adventure          PG   \n",
       "578     Rogue One: A Star Wars Story  Dec 16, 2016  Adventure       PG-13   \n",
       "\n",
       "      total_gross inflation_adjusted_gross  \n",
       "0    $184,925,485           $5,228,953,251  \n",
       "1     $84,300,000           $2,188,229,052  \n",
       "2     $83,320,000           $2,187,090,808  \n",
       "3     $65,000,000           $1,078,510,579  \n",
       "4     $85,000,000             $920,608,730  \n",
       "..            ...                      ...  \n",
       "574   $12,545,979              $12,545,979  \n",
       "575    $8,874,389               $8,874,389  \n",
       "576  $232,532,923             $232,532,923  \n",
       "577  $246,082,029             $246,082,029  \n",
       "578  $529,483,936             $529,483,936  \n",
       "\n",
       "[579 rows x 6 columns]"
      ]
     },
     "execution_count": 4,
     "metadata": {},
     "output_type": "execute_result"
    }
   ],
   "source": [
    "movie_genre_gross"
   ]
  },
  {
   "cell_type": "markdown",
   "metadata": {
    "tags": []
   },
   "source": [
    "#### Table 2: Columns types for dataset disney_movies_total_gross"
   ]
  },
  {
   "cell_type": "code",
   "execution_count": 5,
   "metadata": {
    "tags": []
   },
   "outputs": [
    {
     "name": "stdout",
     "output_type": "stream",
     "text": [
      "<class 'pandas.core.frame.DataFrame'>\n",
      "RangeIndex: 579 entries, 0 to 578\n",
      "Data columns (total 6 columns):\n",
      " #   Column                    Non-Null Count  Dtype \n",
      "---  ------                    --------------  ----- \n",
      " 0   movie_title               579 non-null    object\n",
      " 1   release_date              579 non-null    object\n",
      " 2   genre                     562 non-null    object\n",
      " 3   MPAA_rating               523 non-null    object\n",
      " 4   total_gross               579 non-null    object\n",
      " 5   inflation_adjusted_gross  579 non-null    object\n",
      "dtypes: object(6)\n",
      "memory usage: 27.3+ KB\n"
     ]
    }
   ],
   "source": [
    "movie_genre_gross.info()"
   ]
  },
  {
   "cell_type": "markdown",
   "metadata": {},
   "source": [
    "The table has $579$ rows and $6$ columns. Every movie (**movie_title**) has the year it was released in (**release_year**), a **genre**, a MPAA rating (**MPAA_rating**), the total domestic gross revenue in the year it was released (**total_gross**, see notes 1 and 2), and total gross revenue adjusted to 2016 for inflation (**inflation_adjusted_gross**, see note 3). \n",
    "\n",
    "Note:\n",
    "1. Only domestic revenue is tracked. \n",
    "2. Total gross revenue is calculated based on box office ticket sales and may include revenue from the next calendar year. Movies released late in the calendar year may stay in the box office into the next calendar year.\n",
    "3. Inflation adjusted gross revenue is based on estimated ticket sales. "
   ]
  },
  {
   "cell_type": "markdown",
   "metadata": {},
   "source": [
    "## Clean the table for analysis\n",
    "\n",
    "Let's start by cleaning the table for this analysis by:\n",
    "1. Removing columns not of interest\n",
    "2. Transforming columns to only the data of interest\n",
    "3. Formatting columns for analysis\n",
    "4. Addressing null entries"
   ]
  },
  {
   "cell_type": "markdown",
   "metadata": {},
   "source": [
    "### Remove columns not of interest\n",
    "\n",
    "These columns are not of interest to this analysis, let's remove them:\n",
    "* **MPAA_rating**: The report that inspired this analysis studied the MPAA rating, thus I will not study it. \n",
    "* **total_gross**: I will use inflation adjusted gross revenue as the comparison of genres will span multiple years. \n",
    "\n",
    "#### Table 3: Columns remaining after removing columns not of interest"
   ]
  },
  {
   "cell_type": "code",
   "execution_count": 6,
   "metadata": {},
   "outputs": [
    {
     "data": {
      "text/plain": [
       "movie_title                 object\n",
       "release_date                object\n",
       "genre                       object\n",
       "inflation_adjusted_gross    object\n",
       "dtype: object"
      ]
     },
     "execution_count": 6,
     "metadata": {},
     "output_type": "execute_result"
    }
   ],
   "source": [
    "clean_movie_genre_gross = movie_genre_gross.drop(columns=[\"MPAA_rating\", \"total_gross\"])\n",
    "clean_movie_genre_gross.dtypes"
   ]
  },
  {
   "cell_type": "markdown",
   "metadata": {},
   "source": [
    "### Transform columns to only the data of interest\n",
    "\n",
    "My analysis will only need the year the movie was released. I will extract the **year** from the **release_date** and drop the column.\n",
    "\n",
    "#### Table 4: Columns after year extracted from release_date"
   ]
  },
  {
   "cell_type": "code",
   "execution_count": 7,
   "metadata": {},
   "outputs": [
    {
     "data": {
      "text/plain": [
       "movie_title                 object\n",
       "genre                       object\n",
       "inflation_adjusted_gross    object\n",
       "year                         int32\n",
       "dtype: object"
      ]
     },
     "execution_count": 7,
     "metadata": {},
     "output_type": "execute_result"
    }
   ],
   "source": [
    "clean_movie_genre_gross[\"release_date\"] = pd.to_datetime(clean_movie_genre_gross[\"release_date\"])\n",
    "clean_movie_genre_gross[\"year\"] = clean_movie_genre_gross[\"release_date\"].dt.year\n",
    "clean_movie_genre_gross = clean_movie_genre_gross.drop(columns=[\"release_date\"])\n",
    "clean_movie_genre_gross.dtypes"
   ]
  },
  {
   "cell_type": "markdown",
   "metadata": {},
   "source": [
    "### Format columns for analysis\n",
    "\n",
    "I will convert **inflation_adjusted_gross** to an integer for numerical comparisons. This will require stripping '$', replacing ',' then converting the column type. Now the clean dataframe will have 4 columns, with **year** and **inflation_adjusted_gross** converted to **int64**.\n",
    "\n",
    "#### Table 5: Columns after converting to numeric types"
   ]
  },
  {
   "cell_type": "code",
   "execution_count": 10,
   "metadata": {},
   "outputs": [
    {
     "ename": "OverflowError",
     "evalue": "Python int too large to convert to C long",
     "output_type": "error",
     "traceback": [
      "\u001b[1;31m---------------------------------------------------------------------------\u001b[0m",
      "\u001b[1;31mOverflowError\u001b[0m                             Traceback (most recent call last)",
      "Cell \u001b[1;32mIn[10], line 3\u001b[0m\n\u001b[0;32m      1\u001b[0m clean_movie_genre_gross \u001b[38;5;241m=\u001b[39m clean_movie_genre_gross\u001b[38;5;241m.\u001b[39massign(inflation_adjusted_gross \u001b[38;5;241m=\u001b[39m \n\u001b[0;32m      2\u001b[0m                                                          \u001b[43mclean_movie_genre_gross\u001b[49m\u001b[43m[\u001b[49m\u001b[38;5;124;43m\"\u001b[39;49m\u001b[38;5;124;43minflation_adjusted_gross\u001b[39;49m\u001b[38;5;124;43m\"\u001b[39;49m\u001b[43m]\u001b[49m\u001b[38;5;241;43m.\u001b[39;49m\n\u001b[1;32m----> 3\u001b[0m \u001b[43m                                                         \u001b[49m\u001b[38;5;28;43mstr\u001b[39;49m\u001b[38;5;241;43m.\u001b[39;49m\u001b[43mstrip\u001b[49m\u001b[43m(\u001b[49m\u001b[38;5;124;43m\"\u001b[39;49m\u001b[38;5;124;43m$\u001b[39;49m\u001b[38;5;124;43m\"\u001b[39;49m\u001b[43m)\u001b[49m\u001b[38;5;241;43m.\u001b[39;49m\u001b[43mstr\u001b[49m\u001b[38;5;241;43m.\u001b[39;49m\u001b[43mreplace\u001b[49m\u001b[43m(\u001b[49m\u001b[38;5;124;43m'\u001b[39;49m\u001b[38;5;124;43m,\u001b[39;49m\u001b[38;5;124;43m'\u001b[39;49m\u001b[43m,\u001b[49m\u001b[43m \u001b[49m\u001b[38;5;124;43m'\u001b[39;49m\u001b[38;5;124;43m'\u001b[39;49m\u001b[43m)\u001b[49m\u001b[38;5;241;43m.\u001b[39;49m\u001b[43mastype\u001b[49m\u001b[43m(\u001b[49m\u001b[38;5;28;43mint\u001b[39;49m\u001b[43m)\u001b[49m)\n\u001b[0;32m      4\u001b[0m clean_movie_genre_gross\u001b[38;5;241m.\u001b[39mdtypes\n",
      "File \u001b[1;32m~\\AppData\\Local\\Packages\\PythonSoftwareFoundation.Python.3.11_qbz5n2kfra8p0\\LocalCache\\local-packages\\Python311\\site-packages\\pandas\\core\\generic.py:6643\u001b[0m, in \u001b[0;36mNDFrame.astype\u001b[1;34m(self, dtype, copy, errors)\u001b[0m\n\u001b[0;32m   6637\u001b[0m     results \u001b[38;5;241m=\u001b[39m [\n\u001b[0;32m   6638\u001b[0m         ser\u001b[38;5;241m.\u001b[39mastype(dtype, copy\u001b[38;5;241m=\u001b[39mcopy, errors\u001b[38;5;241m=\u001b[39merrors) \u001b[38;5;28;01mfor\u001b[39;00m _, ser \u001b[38;5;129;01min\u001b[39;00m \u001b[38;5;28mself\u001b[39m\u001b[38;5;241m.\u001b[39mitems()\n\u001b[0;32m   6639\u001b[0m     ]\n\u001b[0;32m   6641\u001b[0m \u001b[38;5;28;01melse\u001b[39;00m:\n\u001b[0;32m   6642\u001b[0m     \u001b[38;5;66;03m# else, only a single dtype is given\u001b[39;00m\n\u001b[1;32m-> 6643\u001b[0m     new_data \u001b[38;5;241m=\u001b[39m \u001b[38;5;28;43mself\u001b[39;49m\u001b[38;5;241;43m.\u001b[39;49m\u001b[43m_mgr\u001b[49m\u001b[38;5;241;43m.\u001b[39;49m\u001b[43mastype\u001b[49m\u001b[43m(\u001b[49m\u001b[43mdtype\u001b[49m\u001b[38;5;241;43m=\u001b[39;49m\u001b[43mdtype\u001b[49m\u001b[43m,\u001b[49m\u001b[43m \u001b[49m\u001b[43mcopy\u001b[49m\u001b[38;5;241;43m=\u001b[39;49m\u001b[43mcopy\u001b[49m\u001b[43m,\u001b[49m\u001b[43m \u001b[49m\u001b[43merrors\u001b[49m\u001b[38;5;241;43m=\u001b[39;49m\u001b[43merrors\u001b[49m\u001b[43m)\u001b[49m\n\u001b[0;32m   6644\u001b[0m     res \u001b[38;5;241m=\u001b[39m \u001b[38;5;28mself\u001b[39m\u001b[38;5;241m.\u001b[39m_constructor_from_mgr(new_data, axes\u001b[38;5;241m=\u001b[39mnew_data\u001b[38;5;241m.\u001b[39maxes)\n\u001b[0;32m   6645\u001b[0m     \u001b[38;5;28;01mreturn\u001b[39;00m res\u001b[38;5;241m.\u001b[39m__finalize__(\u001b[38;5;28mself\u001b[39m, method\u001b[38;5;241m=\u001b[39m\u001b[38;5;124m\"\u001b[39m\u001b[38;5;124mastype\u001b[39m\u001b[38;5;124m\"\u001b[39m)\n",
      "File \u001b[1;32m~\\AppData\\Local\\Packages\\PythonSoftwareFoundation.Python.3.11_qbz5n2kfra8p0\\LocalCache\\local-packages\\Python311\\site-packages\\pandas\\core\\internals\\managers.py:430\u001b[0m, in \u001b[0;36mBaseBlockManager.astype\u001b[1;34m(self, dtype, copy, errors)\u001b[0m\n\u001b[0;32m    427\u001b[0m \u001b[38;5;28;01melif\u001b[39;00m using_copy_on_write():\n\u001b[0;32m    428\u001b[0m     copy \u001b[38;5;241m=\u001b[39m \u001b[38;5;28;01mFalse\u001b[39;00m\n\u001b[1;32m--> 430\u001b[0m \u001b[38;5;28;01mreturn\u001b[39;00m \u001b[38;5;28;43mself\u001b[39;49m\u001b[38;5;241;43m.\u001b[39;49m\u001b[43mapply\u001b[49m\u001b[43m(\u001b[49m\n\u001b[0;32m    431\u001b[0m \u001b[43m    \u001b[49m\u001b[38;5;124;43m\"\u001b[39;49m\u001b[38;5;124;43mastype\u001b[39;49m\u001b[38;5;124;43m\"\u001b[39;49m\u001b[43m,\u001b[49m\n\u001b[0;32m    432\u001b[0m \u001b[43m    \u001b[49m\u001b[43mdtype\u001b[49m\u001b[38;5;241;43m=\u001b[39;49m\u001b[43mdtype\u001b[49m\u001b[43m,\u001b[49m\n\u001b[0;32m    433\u001b[0m \u001b[43m    \u001b[49m\u001b[43mcopy\u001b[49m\u001b[38;5;241;43m=\u001b[39;49m\u001b[43mcopy\u001b[49m\u001b[43m,\u001b[49m\n\u001b[0;32m    434\u001b[0m \u001b[43m    \u001b[49m\u001b[43merrors\u001b[49m\u001b[38;5;241;43m=\u001b[39;49m\u001b[43merrors\u001b[49m\u001b[43m,\u001b[49m\n\u001b[0;32m    435\u001b[0m \u001b[43m    \u001b[49m\u001b[43musing_cow\u001b[49m\u001b[38;5;241;43m=\u001b[39;49m\u001b[43musing_copy_on_write\u001b[49m\u001b[43m(\u001b[49m\u001b[43m)\u001b[49m\u001b[43m,\u001b[49m\n\u001b[0;32m    436\u001b[0m \u001b[43m\u001b[49m\u001b[43m)\u001b[49m\n",
      "File \u001b[1;32m~\\AppData\\Local\\Packages\\PythonSoftwareFoundation.Python.3.11_qbz5n2kfra8p0\\LocalCache\\local-packages\\Python311\\site-packages\\pandas\\core\\internals\\managers.py:363\u001b[0m, in \u001b[0;36mBaseBlockManager.apply\u001b[1;34m(self, f, align_keys, **kwargs)\u001b[0m\n\u001b[0;32m    361\u001b[0m         applied \u001b[38;5;241m=\u001b[39m b\u001b[38;5;241m.\u001b[39mapply(f, \u001b[38;5;241m*\u001b[39m\u001b[38;5;241m*\u001b[39mkwargs)\n\u001b[0;32m    362\u001b[0m     \u001b[38;5;28;01melse\u001b[39;00m:\n\u001b[1;32m--> 363\u001b[0m         applied \u001b[38;5;241m=\u001b[39m \u001b[38;5;28;43mgetattr\u001b[39;49m\u001b[43m(\u001b[49m\u001b[43mb\u001b[49m\u001b[43m,\u001b[49m\u001b[43m \u001b[49m\u001b[43mf\u001b[49m\u001b[43m)\u001b[49m\u001b[43m(\u001b[49m\u001b[38;5;241;43m*\u001b[39;49m\u001b[38;5;241;43m*\u001b[39;49m\u001b[43mkwargs\u001b[49m\u001b[43m)\u001b[49m\n\u001b[0;32m    364\u001b[0m     result_blocks \u001b[38;5;241m=\u001b[39m extend_blocks(applied, result_blocks)\n\u001b[0;32m    366\u001b[0m out \u001b[38;5;241m=\u001b[39m \u001b[38;5;28mtype\u001b[39m(\u001b[38;5;28mself\u001b[39m)\u001b[38;5;241m.\u001b[39mfrom_blocks(result_blocks, \u001b[38;5;28mself\u001b[39m\u001b[38;5;241m.\u001b[39maxes)\n",
      "File \u001b[1;32m~\\AppData\\Local\\Packages\\PythonSoftwareFoundation.Python.3.11_qbz5n2kfra8p0\\LocalCache\\local-packages\\Python311\\site-packages\\pandas\\core\\internals\\blocks.py:758\u001b[0m, in \u001b[0;36mBlock.astype\u001b[1;34m(self, dtype, copy, errors, using_cow, squeeze)\u001b[0m\n\u001b[0;32m    755\u001b[0m         \u001b[38;5;28;01mraise\u001b[39;00m \u001b[38;5;167;01mValueError\u001b[39;00m(\u001b[38;5;124m\"\u001b[39m\u001b[38;5;124mCan not squeeze with more than one column.\u001b[39m\u001b[38;5;124m\"\u001b[39m)\n\u001b[0;32m    756\u001b[0m     values \u001b[38;5;241m=\u001b[39m values[\u001b[38;5;241m0\u001b[39m, :]  \u001b[38;5;66;03m# type: ignore[call-overload]\u001b[39;00m\n\u001b[1;32m--> 758\u001b[0m new_values \u001b[38;5;241m=\u001b[39m \u001b[43mastype_array_safe\u001b[49m\u001b[43m(\u001b[49m\u001b[43mvalues\u001b[49m\u001b[43m,\u001b[49m\u001b[43m \u001b[49m\u001b[43mdtype\u001b[49m\u001b[43m,\u001b[49m\u001b[43m \u001b[49m\u001b[43mcopy\u001b[49m\u001b[38;5;241;43m=\u001b[39;49m\u001b[43mcopy\u001b[49m\u001b[43m,\u001b[49m\u001b[43m \u001b[49m\u001b[43merrors\u001b[49m\u001b[38;5;241;43m=\u001b[39;49m\u001b[43merrors\u001b[49m\u001b[43m)\u001b[49m\n\u001b[0;32m    760\u001b[0m new_values \u001b[38;5;241m=\u001b[39m maybe_coerce_values(new_values)\n\u001b[0;32m    762\u001b[0m refs \u001b[38;5;241m=\u001b[39m \u001b[38;5;28;01mNone\u001b[39;00m\n",
      "File \u001b[1;32m~\\AppData\\Local\\Packages\\PythonSoftwareFoundation.Python.3.11_qbz5n2kfra8p0\\LocalCache\\local-packages\\Python311\\site-packages\\pandas\\core\\dtypes\\astype.py:237\u001b[0m, in \u001b[0;36mastype_array_safe\u001b[1;34m(values, dtype, copy, errors)\u001b[0m\n\u001b[0;32m    234\u001b[0m     dtype \u001b[38;5;241m=\u001b[39m dtype\u001b[38;5;241m.\u001b[39mnumpy_dtype\n\u001b[0;32m    236\u001b[0m \u001b[38;5;28;01mtry\u001b[39;00m:\n\u001b[1;32m--> 237\u001b[0m     new_values \u001b[38;5;241m=\u001b[39m \u001b[43mastype_array\u001b[49m\u001b[43m(\u001b[49m\u001b[43mvalues\u001b[49m\u001b[43m,\u001b[49m\u001b[43m \u001b[49m\u001b[43mdtype\u001b[49m\u001b[43m,\u001b[49m\u001b[43m \u001b[49m\u001b[43mcopy\u001b[49m\u001b[38;5;241;43m=\u001b[39;49m\u001b[43mcopy\u001b[49m\u001b[43m)\u001b[49m\n\u001b[0;32m    238\u001b[0m \u001b[38;5;28;01mexcept\u001b[39;00m (\u001b[38;5;167;01mValueError\u001b[39;00m, \u001b[38;5;167;01mTypeError\u001b[39;00m):\n\u001b[0;32m    239\u001b[0m     \u001b[38;5;66;03m# e.g. _astype_nansafe can fail on object-dtype of strings\u001b[39;00m\n\u001b[0;32m    240\u001b[0m     \u001b[38;5;66;03m#  trying to convert to float\u001b[39;00m\n\u001b[0;32m    241\u001b[0m     \u001b[38;5;28;01mif\u001b[39;00m errors \u001b[38;5;241m==\u001b[39m \u001b[38;5;124m\"\u001b[39m\u001b[38;5;124mignore\u001b[39m\u001b[38;5;124m\"\u001b[39m:\n",
      "File \u001b[1;32m~\\AppData\\Local\\Packages\\PythonSoftwareFoundation.Python.3.11_qbz5n2kfra8p0\\LocalCache\\local-packages\\Python311\\site-packages\\pandas\\core\\dtypes\\astype.py:182\u001b[0m, in \u001b[0;36mastype_array\u001b[1;34m(values, dtype, copy)\u001b[0m\n\u001b[0;32m    179\u001b[0m     values \u001b[38;5;241m=\u001b[39m values\u001b[38;5;241m.\u001b[39mastype(dtype, copy\u001b[38;5;241m=\u001b[39mcopy)\n\u001b[0;32m    181\u001b[0m \u001b[38;5;28;01melse\u001b[39;00m:\n\u001b[1;32m--> 182\u001b[0m     values \u001b[38;5;241m=\u001b[39m \u001b[43m_astype_nansafe\u001b[49m\u001b[43m(\u001b[49m\u001b[43mvalues\u001b[49m\u001b[43m,\u001b[49m\u001b[43m \u001b[49m\u001b[43mdtype\u001b[49m\u001b[43m,\u001b[49m\u001b[43m \u001b[49m\u001b[43mcopy\u001b[49m\u001b[38;5;241;43m=\u001b[39;49m\u001b[43mcopy\u001b[49m\u001b[43m)\u001b[49m\n\u001b[0;32m    184\u001b[0m \u001b[38;5;66;03m# in pandas we don't store numpy str dtypes, so convert to object\u001b[39;00m\n\u001b[0;32m    185\u001b[0m \u001b[38;5;28;01mif\u001b[39;00m \u001b[38;5;28misinstance\u001b[39m(dtype, np\u001b[38;5;241m.\u001b[39mdtype) \u001b[38;5;129;01mand\u001b[39;00m \u001b[38;5;28missubclass\u001b[39m(values\u001b[38;5;241m.\u001b[39mdtype\u001b[38;5;241m.\u001b[39mtype, \u001b[38;5;28mstr\u001b[39m):\n",
      "File \u001b[1;32m~\\AppData\\Local\\Packages\\PythonSoftwareFoundation.Python.3.11_qbz5n2kfra8p0\\LocalCache\\local-packages\\Python311\\site-packages\\pandas\\core\\dtypes\\astype.py:133\u001b[0m, in \u001b[0;36m_astype_nansafe\u001b[1;34m(arr, dtype, copy, skipna)\u001b[0m\n\u001b[0;32m    129\u001b[0m     \u001b[38;5;28;01mraise\u001b[39;00m \u001b[38;5;167;01mValueError\u001b[39;00m(msg)\n\u001b[0;32m    131\u001b[0m \u001b[38;5;28;01mif\u001b[39;00m copy \u001b[38;5;129;01mor\u001b[39;00m arr\u001b[38;5;241m.\u001b[39mdtype \u001b[38;5;241m==\u001b[39m \u001b[38;5;28mobject\u001b[39m \u001b[38;5;129;01mor\u001b[39;00m dtype \u001b[38;5;241m==\u001b[39m \u001b[38;5;28mobject\u001b[39m:\n\u001b[0;32m    132\u001b[0m     \u001b[38;5;66;03m# Explicit copy, or required since NumPy can't view from / to object.\u001b[39;00m\n\u001b[1;32m--> 133\u001b[0m     \u001b[38;5;28;01mreturn\u001b[39;00m \u001b[43marr\u001b[49m\u001b[38;5;241;43m.\u001b[39;49m\u001b[43mastype\u001b[49m\u001b[43m(\u001b[49m\u001b[43mdtype\u001b[49m\u001b[43m,\u001b[49m\u001b[43m \u001b[49m\u001b[43mcopy\u001b[49m\u001b[38;5;241;43m=\u001b[39;49m\u001b[38;5;28;43;01mTrue\u001b[39;49;00m\u001b[43m)\u001b[49m\n\u001b[0;32m    135\u001b[0m \u001b[38;5;28;01mreturn\u001b[39;00m arr\u001b[38;5;241m.\u001b[39mastype(dtype, copy\u001b[38;5;241m=\u001b[39mcopy)\n",
      "\u001b[1;31mOverflowError\u001b[0m: Python int too large to convert to C long"
     ]
    }
   ],
   "source": [
    "clean_movie_genre_gross = clean_movie_genre_gross.assign(inflation_adjusted_gross = \n",
    "                                                         clean_movie_genre_gross[\"inflation_adjusted_gross\"].\n",
    "                                                         str.strip(\"$\").str.replace(',', '').astype(int))\n",
    "clean_movie_genre_gross.dtypes"
   ]
  },
  {
   "cell_type": "markdown",
   "metadata": {
    "tags": []
   },
   "source": [
    "### Address null entries\n",
    "\n",
    "Last step to cleaning the data is to address null entries. Let's example the **clean_movie_genre_gross** table for null entries.\n",
    "\n",
    "#### Table 6: Null entries per column"
   ]
  },
  {
   "cell_type": "code",
   "execution_count": null,
   "metadata": {
    "tags": []
   },
   "outputs": [
    {
     "name": "stdout",
     "output_type": "stream",
     "text": [
      "<class 'pandas.core.frame.DataFrame'>\n",
      "RangeIndex: 579 entries, 0 to 578\n",
      "Data columns (total 4 columns):\n",
      " #   Column                    Non-Null Count  Dtype \n",
      "---  ------                    --------------  ----- \n",
      " 0   movie_title               579 non-null    object\n",
      " 1   genre                     562 non-null    object\n",
      " 2   inflation_adjusted_gross  579 non-null    int64 \n",
      " 3   year                      579 non-null    int64 \n",
      "dtypes: int64(2), object(2)\n",
      "memory usage: 18.2+ KB\n"
     ]
    }
   ],
   "source": [
    "clean_movie_genre_gross.info()"
   ]
  },
  {
   "cell_type": "markdown",
   "metadata": {},
   "source": [
    "There are $17$ null entries in the **genre** column. There are 3 options for handling movies with no **genre** specified:\n",
    "1. Exclude from my analysis\n",
    "2. Assign a genre by searching for the movie online\n",
    "3. Analyse these movies as a group by assigning them a genric genre\n",
    " \n",
    "Let's explore option 1 by calculating the percentage of gross revenue these movies represent to decide to include or exclude them from my analysis.   \n",
    "\n",
    "#### Table 7: Total gross revenue if genre specified"
   ]
  },
  {
   "cell_type": "code",
   "execution_count": null,
   "metadata": {},
   "outputs": [
    {
     "name": "stdout",
     "output_type": "stream",
     "text": [
      "Genre not specified gross sum: 367603384\n",
      "Genre specified gross sum: 68763500997\n",
      "Percentage:  0.53 %\n"
     ]
    }
   ],
   "source": [
    "no_genre_sum = clean_movie_genre_gross.loc[clean_movie_genre_gross['genre'].isna(), \"inflation_adjusted_gross\"].sum()\n",
    "gross_sum = clean_movie_genre_gross['inflation_adjusted_gross'].sum()\n",
    "print(\"Genre not specified gross sum:\", no_genre_sum)\n",
    "print(\"Genre specified gross sum:\", gross_sum)\n",
    "\n",
    "no_genre_percentage = round((no_genre_sum / gross_sum) * 100, 2)\n",
    "print(\"Percentage: \", no_genre_percentage, '%')"
   ]
  },
  {
   "cell_type": "markdown",
   "metadata": {},
   "source": [
    "Thus I will exclude these movies with no genre as they represent < 1% of gross revenue.\n",
    "\n",
    "#### Table 8: Null entries per column after cleaning"
   ]
  },
  {
   "cell_type": "code",
   "execution_count": null,
   "metadata": {},
   "outputs": [
    {
     "name": "stdout",
     "output_type": "stream",
     "text": [
      "<class 'pandas.core.frame.DataFrame'>\n",
      "Int64Index: 562 entries, 0 to 578\n",
      "Data columns (total 4 columns):\n",
      " #   Column                    Non-Null Count  Dtype \n",
      "---  ------                    --------------  ----- \n",
      " 0   movie_title               562 non-null    object\n",
      " 1   genre                     562 non-null    object\n",
      " 2   inflation_adjusted_gross  562 non-null    int64 \n",
      " 3   year                      562 non-null    int64 \n",
      "dtypes: int64(2), object(2)\n",
      "memory usage: 22.0+ KB\n"
     ]
    }
   ],
   "source": [
    "clean_movie_genre_gross = clean_movie_genre_gross.dropna()\n",
    "clean_movie_genre_gross.info()"
   ]
  },
  {
   "cell_type": "markdown",
   "metadata": {},
   "source": [
    "## Analysis of Genre and Gross Revenue"
   ]
  },
  {
   "cell_type": "markdown",
   "metadata": {},
   "source": [
    "Now that the table is clean, I will analyze how movie genre and gross revenue are related by calculating for each genre:\n",
    "1. The number of movies produced\n",
    "2. The total gross revenue for all movies \n",
    "3. The mean gross revenue per movie \n",
    "\n",
    "I will use a function to calculate these stats as they may need to be calculated again for further analysis.\n",
    "\n",
    "Before using the function:\n",
    "* Ensure the function and associated unit tests are PEP 8 compliant using the Black formatter \n",
    "* Ensure the unit tests pass "
   ]
  },
  {
   "cell_type": "code",
   "execution_count": null,
   "metadata": {},
   "outputs": [
    {
     "name": "stdout",
     "output_type": "stream",
     "text": [
      "\u001b[1mAll done! ✨ 🍰 ✨\u001b[0m\n",
      "1 file left unchanged.\u001b[0m\n"
     ]
    }
   ],
   "source": [
    "!black script.py"
   ]
  },
  {
   "cell_type": "code",
   "execution_count": null,
   "metadata": {},
   "outputs": [
    {
     "name": "stdout",
     "output_type": "stream",
     "text": [
      "\u001b[1mAll done! ✨ 🍰 ✨\u001b[0m\n",
      "1 file left unchanged.\u001b[0m\n"
     ]
    }
   ],
   "source": [
    "!black test_script.py"
   ]
  },
  {
   "cell_type": "code",
   "execution_count": null,
   "metadata": {},
   "outputs": [
    {
     "name": "stdout",
     "output_type": "stream",
     "text": [
      "\u001b[1m============================= test session starts ==============================\u001b[0m\n",
      "platform linux -- Python 3.8.5, pytest-6.2.4, py-1.10.0, pluggy-0.13.1\n",
      "rootdir: /home/jupyter/prog-python-ds-students/release/final_project\n",
      "plugins: anyio-3.2.1, dash-1.20.0\n",
      "collected 1 item                                                               \u001b[0m\u001b[1m\n",
      "\n",
      "test_script.py \u001b[32m.\u001b[0m\u001b[32m                                                         [100%]\u001b[0m\n",
      "\n",
      "\u001b[32m============================== \u001b[32m\u001b[1m1 passed\u001b[0m\u001b[32m in 0.82s\u001b[0m\u001b[32m ===============================\u001b[0m\n"
     ]
    }
   ],
   "source": [
    "!pytest test_script.py"
   ]
  },
  {
   "cell_type": "markdown",
   "metadata": {},
   "source": [
    "Now calculate the stats for each genre. \n",
    "\n",
    "#### Table 9: Stats per genre"
   ]
  },
  {
   "cell_type": "code",
   "execution_count": null,
   "metadata": {},
   "outputs": [
    {
     "data": {
      "text/html": [
       "<div>\n",
       "<style scoped>\n",
       "    .dataframe tbody tr th:only-of-type {\n",
       "        vertical-align: middle;\n",
       "    }\n",
       "\n",
       "    .dataframe tbody tr th {\n",
       "        vertical-align: top;\n",
       "    }\n",
       "\n",
       "    .dataframe thead th {\n",
       "        text-align: right;\n",
       "    }\n",
       "</style>\n",
       "<table border=\"1\" class=\"dataframe\">\n",
       "  <thead>\n",
       "    <tr style=\"text-align: right;\">\n",
       "      <th></th>\n",
       "      <th>genre</th>\n",
       "      <th>sum</th>\n",
       "      <th>mean</th>\n",
       "      <th>count</th>\n",
       "    </tr>\n",
       "  </thead>\n",
       "  <tbody>\n",
       "    <tr>\n",
       "      <th>0</th>\n",
       "      <td>Action</td>\n",
       "      <td>5498936786</td>\n",
       "      <td>137473419</td>\n",
       "      <td>40</td>\n",
       "    </tr>\n",
       "    <tr>\n",
       "      <th>1</th>\n",
       "      <td>Adventure</td>\n",
       "      <td>24561266158</td>\n",
       "      <td>190397412</td>\n",
       "      <td>129</td>\n",
       "    </tr>\n",
       "    <tr>\n",
       "      <th>2</th>\n",
       "      <td>Black Comedy</td>\n",
       "      <td>156730475</td>\n",
       "      <td>52243491</td>\n",
       "      <td>3</td>\n",
       "    </tr>\n",
       "    <tr>\n",
       "      <th>3</th>\n",
       "      <td>Comedy</td>\n",
       "      <td>15409526913</td>\n",
       "      <td>84667730</td>\n",
       "      <td>182</td>\n",
       "    </tr>\n",
       "    <tr>\n",
       "      <th>4</th>\n",
       "      <td>Concert/Performance</td>\n",
       "      <td>114821678</td>\n",
       "      <td>57410839</td>\n",
       "      <td>2</td>\n",
       "    </tr>\n",
       "    <tr>\n",
       "      <th>5</th>\n",
       "      <td>Documentary</td>\n",
       "      <td>203488418</td>\n",
       "      <td>12718026</td>\n",
       "      <td>16</td>\n",
       "    </tr>\n",
       "    <tr>\n",
       "      <th>6</th>\n",
       "      <td>Drama</td>\n",
       "      <td>8195804484</td>\n",
       "      <td>71893021</td>\n",
       "      <td>114</td>\n",
       "    </tr>\n",
       "    <tr>\n",
       "      <th>7</th>\n",
       "      <td>Horror</td>\n",
       "      <td>140483092</td>\n",
       "      <td>23413848</td>\n",
       "      <td>6</td>\n",
       "    </tr>\n",
       "    <tr>\n",
       "      <th>8</th>\n",
       "      <td>Musical</td>\n",
       "      <td>9657565776</td>\n",
       "      <td>603597861</td>\n",
       "      <td>16</td>\n",
       "    </tr>\n",
       "    <tr>\n",
       "      <th>9</th>\n",
       "      <td>Romantic Comedy</td>\n",
       "      <td>1788872933</td>\n",
       "      <td>77777084</td>\n",
       "      <td>23</td>\n",
       "    </tr>\n",
       "    <tr>\n",
       "      <th>10</th>\n",
       "      <td>Thriller/Suspense</td>\n",
       "      <td>2151690954</td>\n",
       "      <td>89653789</td>\n",
       "      <td>24</td>\n",
       "    </tr>\n",
       "    <tr>\n",
       "      <th>11</th>\n",
       "      <td>Western</td>\n",
       "      <td>516709946</td>\n",
       "      <td>73815706</td>\n",
       "      <td>7</td>\n",
       "    </tr>\n",
       "  </tbody>\n",
       "</table>\n",
       "</div>"
      ],
      "text/plain": [
       "                  genre          sum       mean  count\n",
       "0                Action   5498936786  137473419     40\n",
       "1             Adventure  24561266158  190397412    129\n",
       "2          Black Comedy    156730475   52243491      3\n",
       "3                Comedy  15409526913   84667730    182\n",
       "4   Concert/Performance    114821678   57410839      2\n",
       "5           Documentary    203488418   12718026     16\n",
       "6                 Drama   8195804484   71893021    114\n",
       "7                Horror    140483092   23413848      6\n",
       "8               Musical   9657565776  603597861     16\n",
       "9       Romantic Comedy   1788872933   77777084     23\n",
       "10    Thriller/Suspense   2151690954   89653789     24\n",
       "11              Western    516709946   73815706      7"
      ]
     },
     "execution_count": 13,
     "metadata": {},
     "output_type": "execute_result"
    }
   ],
   "source": [
    "from script import group_stats\n",
    "\n",
    "stats_df = group_stats(clean_movie_genre_gross, \"genre\", \"inflation_adjusted_gross\")\n",
    "stats_df"
   ]
  },
  {
   "cell_type": "markdown",
   "metadata": {},
   "source": [
    "I see there are a few genres that most moviegoers would consider similar:\n",
    "* Comedy, Romantic Comedy, Black Comedy\n",
    "* Horror, Thriller/Suspense\n",
    "\n",
    "I will combine these genres to make the analysis more relatable to the average moviegoer. \n",
    "* Comedy\n",
    "* Horror/Thriller/Suspense\n",
    "\n",
    "#### Table 10: Stats per genre simplified"
   ]
  },
  {
   "cell_type": "code",
   "execution_count": null,
   "metadata": {},
   "outputs": [
    {
     "data": {
      "text/html": [
       "<div>\n",
       "<style scoped>\n",
       "    .dataframe tbody tr th:only-of-type {\n",
       "        vertical-align: middle;\n",
       "    }\n",
       "\n",
       "    .dataframe tbody tr th {\n",
       "        vertical-align: top;\n",
       "    }\n",
       "\n",
       "    .dataframe thead th {\n",
       "        text-align: right;\n",
       "    }\n",
       "</style>\n",
       "<table border=\"1\" class=\"dataframe\">\n",
       "  <thead>\n",
       "    <tr style=\"text-align: right;\">\n",
       "      <th></th>\n",
       "      <th>genre</th>\n",
       "      <th>sum</th>\n",
       "      <th>mean</th>\n",
       "      <th>count</th>\n",
       "    </tr>\n",
       "  </thead>\n",
       "  <tbody>\n",
       "    <tr>\n",
       "      <th>0</th>\n",
       "      <td>Action</td>\n",
       "      <td>5498936786</td>\n",
       "      <td>137473419</td>\n",
       "      <td>40</td>\n",
       "    </tr>\n",
       "    <tr>\n",
       "      <th>1</th>\n",
       "      <td>Adventure</td>\n",
       "      <td>24561266158</td>\n",
       "      <td>190397412</td>\n",
       "      <td>129</td>\n",
       "    </tr>\n",
       "    <tr>\n",
       "      <th>2</th>\n",
       "      <td>Comedy</td>\n",
       "      <td>17355130321</td>\n",
       "      <td>83438126</td>\n",
       "      <td>208</td>\n",
       "    </tr>\n",
       "    <tr>\n",
       "      <th>3</th>\n",
       "      <td>Concert/Performance</td>\n",
       "      <td>114821678</td>\n",
       "      <td>57410839</td>\n",
       "      <td>2</td>\n",
       "    </tr>\n",
       "    <tr>\n",
       "      <th>4</th>\n",
       "      <td>Documentary</td>\n",
       "      <td>203488418</td>\n",
       "      <td>12718026</td>\n",
       "      <td>16</td>\n",
       "    </tr>\n",
       "    <tr>\n",
       "      <th>5</th>\n",
       "      <td>Drama</td>\n",
       "      <td>8195804484</td>\n",
       "      <td>71893021</td>\n",
       "      <td>114</td>\n",
       "    </tr>\n",
       "    <tr>\n",
       "      <th>6</th>\n",
       "      <td>Horror/Thriller/Suspense</td>\n",
       "      <td>2292174046</td>\n",
       "      <td>76405801</td>\n",
       "      <td>30</td>\n",
       "    </tr>\n",
       "    <tr>\n",
       "      <th>7</th>\n",
       "      <td>Musical</td>\n",
       "      <td>9657565776</td>\n",
       "      <td>603597861</td>\n",
       "      <td>16</td>\n",
       "    </tr>\n",
       "    <tr>\n",
       "      <th>8</th>\n",
       "      <td>Western</td>\n",
       "      <td>516709946</td>\n",
       "      <td>73815706</td>\n",
       "      <td>7</td>\n",
       "    </tr>\n",
       "  </tbody>\n",
       "</table>\n",
       "</div>"
      ],
      "text/plain": [
       "                      genre          sum       mean  count\n",
       "0                    Action   5498936786  137473419     40\n",
       "1                 Adventure  24561266158  190397412    129\n",
       "2                    Comedy  17355130321   83438126    208\n",
       "3       Concert/Performance    114821678   57410839      2\n",
       "4               Documentary    203488418   12718026     16\n",
       "5                     Drama   8195804484   71893021    114\n",
       "6  Horror/Thriller/Suspense   2292174046   76405801     30\n",
       "7                   Musical   9657565776  603597861     16\n",
       "8                   Western    516709946   73815706      7"
      ]
     },
     "execution_count": 14,
     "metadata": {},
     "output_type": "execute_result"
    }
   ],
   "source": [
    "# Update all genres of Comedy to just Comedy\n",
    "clean_movie_genre_gross.loc[clean_movie_genre_gross[\"genre\"].str.contains(\"Comedy\"), \"genre\"] = \"Comedy\"\n",
    "\n",
    "# Combine Horror and Thriller/Suspense\n",
    "clean_movie_genre_gross.loc[clean_movie_genre_gross[\"genre\"].str.fullmatch(\"Horror\"), \"genre\"] = \"Horror/Thriller/Suspense\"\n",
    "clean_movie_genre_gross.loc[clean_movie_genre_gross[\"genre\"].str.fullmatch(\"Thriller/Suspense\"), \"genre\"] = \"Horror/Thriller/Suspense\"\n",
    "\n",
    "stats_df = group_stats(clean_movie_genre_gross, \"genre\", \"inflation_adjusted_gross\")\n",
    "stats_df"
   ]
  },
  {
   "cell_type": "markdown",
   "metadata": {},
   "source": [
    "Now I will chart the table to see which genre has the highest:\n",
    "1. Number of movies \n",
    "2. Total gross revenue for all movies \n",
    "3. Mean gross revenue per movie "
   ]
  },
  {
   "cell_type": "code",
   "execution_count": null,
   "metadata": {},
   "outputs": [
    {
     "data": {
      "text/html": [
       "\n",
       "<div id=\"altair-viz-18ff7f94c6a74278a330f6893e5c795f\"></div>\n",
       "<script type=\"text/javascript\">\n",
       "  (function(spec, embedOpt){\n",
       "    let outputDiv = document.currentScript.previousElementSibling;\n",
       "    if (outputDiv.id !== \"altair-viz-18ff7f94c6a74278a330f6893e5c795f\") {\n",
       "      outputDiv = document.getElementById(\"altair-viz-18ff7f94c6a74278a330f6893e5c795f\");\n",
       "    }\n",
       "    const paths = {\n",
       "      \"vega\": \"https://cdn.jsdelivr.net/npm//vega@5?noext\",\n",
       "      \"vega-lib\": \"https://cdn.jsdelivr.net/npm//vega-lib?noext\",\n",
       "      \"vega-lite\": \"https://cdn.jsdelivr.net/npm//vega-lite@4.8.1?noext\",\n",
       "      \"vega-embed\": \"https://cdn.jsdelivr.net/npm//vega-embed@6?noext\",\n",
       "    };\n",
       "\n",
       "    function loadScript(lib) {\n",
       "      return new Promise(function(resolve, reject) {\n",
       "        var s = document.createElement('script');\n",
       "        s.src = paths[lib];\n",
       "        s.async = true;\n",
       "        s.onload = () => resolve(paths[lib]);\n",
       "        s.onerror = () => reject(`Error loading script: ${paths[lib]}`);\n",
       "        document.getElementsByTagName(\"head\")[0].appendChild(s);\n",
       "      });\n",
       "    }\n",
       "\n",
       "    function showError(err) {\n",
       "      outputDiv.innerHTML = `<div class=\"error\" style=\"color:red;\">${err}</div>`;\n",
       "      throw err;\n",
       "    }\n",
       "\n",
       "    function displayChart(vegaEmbed) {\n",
       "      vegaEmbed(outputDiv, spec, embedOpt)\n",
       "        .catch(err => showError(`Javascript Error: ${err.message}<br>This usually means there's a typo in your chart specification. See the javascript console for the full traceback.`));\n",
       "    }\n",
       "\n",
       "    if(typeof define === \"function\" && define.amd) {\n",
       "      requirejs.config({paths});\n",
       "      require([\"vega-embed\"], displayChart, err => showError(`Error loading script: ${err.message}`));\n",
       "    } else if (typeof vegaEmbed === \"function\") {\n",
       "      displayChart(vegaEmbed);\n",
       "    } else {\n",
       "      loadScript(\"vega\")\n",
       "        .then(() => loadScript(\"vega-lite\"))\n",
       "        .then(() => loadScript(\"vega-embed\"))\n",
       "        .catch(showError)\n",
       "        .then(() => displayChart(vegaEmbed));\n",
       "    }\n",
       "  })({\"config\": {\"view\": {\"continuousWidth\": 400, \"continuousHeight\": 300}}, \"data\": {\"name\": \"data-df72f0dface1eb6ec99e88101dc6908b\"}, \"mark\": \"bar\", \"encoding\": {\"x\": {\"type\": \"nominal\", \"field\": \"genre\", \"sort\": \"-y\", \"title\": \"Genre\"}, \"y\": {\"type\": \"quantitative\", \"field\": \"count\", \"title\": \"Number of Movies Produced\"}}, \"height\": 300, \"title\": \"Figure 1. Movies Produced per Genre\", \"width\": 500, \"$schema\": \"https://vega.github.io/schema/vega-lite/v4.8.1.json\", \"datasets\": {\"data-df72f0dface1eb6ec99e88101dc6908b\": [{\"genre\": \"Action\", \"sum\": 5498936786, \"mean\": 137473419, \"count\": 40}, {\"genre\": \"Adventure\", \"sum\": 24561266158, \"mean\": 190397412, \"count\": 129}, {\"genre\": \"Comedy\", \"sum\": 17355130321, \"mean\": 83438126, \"count\": 208}, {\"genre\": \"Concert/Performance\", \"sum\": 114821678, \"mean\": 57410839, \"count\": 2}, {\"genre\": \"Documentary\", \"sum\": 203488418, \"mean\": 12718026, \"count\": 16}, {\"genre\": \"Drama\", \"sum\": 8195804484, \"mean\": 71893021, \"count\": 114}, {\"genre\": \"Horror/Thriller/Suspense\", \"sum\": 2292174046, \"mean\": 76405801, \"count\": 30}, {\"genre\": \"Musical\", \"sum\": 9657565776, \"mean\": 603597861, \"count\": 16}, {\"genre\": \"Western\", \"sum\": 516709946, \"mean\": 73815706, \"count\": 7}]}}, {\"mode\": \"vega-lite\"});\n",
       "</script>"
      ],
      "text/plain": [
       "alt.Chart(...)"
      ]
     },
     "execution_count": 15,
     "metadata": {},
     "output_type": "execute_result"
    }
   ],
   "source": [
    "movie_count_plot = (\n",
    "    alt.Chart(stats_df, width=500, height=300)\n",
    "    .mark_bar()\n",
    "    .encode(\n",
    "        x=alt.X(\"genre:N\", title=\"Genre\", sort=\"-y\"),\n",
    "        y=alt.Y(\"count:Q\", title=\"Number of Movies Produced\"),\n",
    "    )\n",
    "    .properties(title=\"Figure 1. Movies Produced per Genre\")\n",
    ")\n",
    "movie_count_plot"
   ]
  },
  {
   "cell_type": "markdown",
   "metadata": {},
   "source": [
    "The **Comedy** genre has the **highest** number of movies, while the **Musical** genre has the **3rd fewest** number of movies. "
   ]
  },
  {
   "cell_type": "code",
   "execution_count": null,
   "metadata": {},
   "outputs": [
    {
     "data": {
      "text/html": [
       "\n",
       "<div id=\"altair-viz-1d8079b7a7b340b3bf5559e9b1c83795\"></div>\n",
       "<script type=\"text/javascript\">\n",
       "  (function(spec, embedOpt){\n",
       "    let outputDiv = document.currentScript.previousElementSibling;\n",
       "    if (outputDiv.id !== \"altair-viz-1d8079b7a7b340b3bf5559e9b1c83795\") {\n",
       "      outputDiv = document.getElementById(\"altair-viz-1d8079b7a7b340b3bf5559e9b1c83795\");\n",
       "    }\n",
       "    const paths = {\n",
       "      \"vega\": \"https://cdn.jsdelivr.net/npm//vega@5?noext\",\n",
       "      \"vega-lib\": \"https://cdn.jsdelivr.net/npm//vega-lib?noext\",\n",
       "      \"vega-lite\": \"https://cdn.jsdelivr.net/npm//vega-lite@4.8.1?noext\",\n",
       "      \"vega-embed\": \"https://cdn.jsdelivr.net/npm//vega-embed@6?noext\",\n",
       "    };\n",
       "\n",
       "    function loadScript(lib) {\n",
       "      return new Promise(function(resolve, reject) {\n",
       "        var s = document.createElement('script');\n",
       "        s.src = paths[lib];\n",
       "        s.async = true;\n",
       "        s.onload = () => resolve(paths[lib]);\n",
       "        s.onerror = () => reject(`Error loading script: ${paths[lib]}`);\n",
       "        document.getElementsByTagName(\"head\")[0].appendChild(s);\n",
       "      });\n",
       "    }\n",
       "\n",
       "    function showError(err) {\n",
       "      outputDiv.innerHTML = `<div class=\"error\" style=\"color:red;\">${err}</div>`;\n",
       "      throw err;\n",
       "    }\n",
       "\n",
       "    function displayChart(vegaEmbed) {\n",
       "      vegaEmbed(outputDiv, spec, embedOpt)\n",
       "        .catch(err => showError(`Javascript Error: ${err.message}<br>This usually means there's a typo in your chart specification. See the javascript console for the full traceback.`));\n",
       "    }\n",
       "\n",
       "    if(typeof define === \"function\" && define.amd) {\n",
       "      requirejs.config({paths});\n",
       "      require([\"vega-embed\"], displayChart, err => showError(`Error loading script: ${err.message}`));\n",
       "    } else if (typeof vegaEmbed === \"function\") {\n",
       "      displayChart(vegaEmbed);\n",
       "    } else {\n",
       "      loadScript(\"vega\")\n",
       "        .then(() => loadScript(\"vega-lite\"))\n",
       "        .then(() => loadScript(\"vega-embed\"))\n",
       "        .catch(showError)\n",
       "        .then(() => displayChart(vegaEmbed));\n",
       "    }\n",
       "  })({\"config\": {\"view\": {\"continuousWidth\": 400, \"continuousHeight\": 300}}, \"data\": {\"name\": \"data-df72f0dface1eb6ec99e88101dc6908b\"}, \"mark\": \"bar\", \"encoding\": {\"x\": {\"type\": \"nominal\", \"field\": \"genre\", \"sort\": \"-y\", \"title\": \"Genre\"}, \"y\": {\"type\": \"quantitative\", \"field\": \"sum\", \"title\": \"Total Gross Revenue ($)\"}}, \"height\": 300, \"title\": \"Figure 2. Total Gross Revenue per Genre\", \"width\": 500, \"$schema\": \"https://vega.github.io/schema/vega-lite/v4.8.1.json\", \"datasets\": {\"data-df72f0dface1eb6ec99e88101dc6908b\": [{\"genre\": \"Action\", \"sum\": 5498936786, \"mean\": 137473419, \"count\": 40}, {\"genre\": \"Adventure\", \"sum\": 24561266158, \"mean\": 190397412, \"count\": 129}, {\"genre\": \"Comedy\", \"sum\": 17355130321, \"mean\": 83438126, \"count\": 208}, {\"genre\": \"Concert/Performance\", \"sum\": 114821678, \"mean\": 57410839, \"count\": 2}, {\"genre\": \"Documentary\", \"sum\": 203488418, \"mean\": 12718026, \"count\": 16}, {\"genre\": \"Drama\", \"sum\": 8195804484, \"mean\": 71893021, \"count\": 114}, {\"genre\": \"Horror/Thriller/Suspense\", \"sum\": 2292174046, \"mean\": 76405801, \"count\": 30}, {\"genre\": \"Musical\", \"sum\": 9657565776, \"mean\": 603597861, \"count\": 16}, {\"genre\": \"Western\", \"sum\": 516709946, \"mean\": 73815706, \"count\": 7}]}}, {\"mode\": \"vega-lite\"});\n",
       "</script>"
      ],
      "text/plain": [
       "alt.Chart(...)"
      ]
     },
     "execution_count": 16,
     "metadata": {},
     "output_type": "execute_result"
    }
   ],
   "source": [
    "total_gross_plot = (\n",
    "    alt.Chart(stats_df, width=500, height=300)\n",
    "    .mark_bar()\n",
    "    .encode(\n",
    "        x=alt.X(\"genre:N\", title=\"Genre\", sort=\"-y\"),\n",
    "        y=alt.Y(\"sum:Q\", title=\"Total Gross Revenue ($)\"),\n",
    "    )\n",
    "    .properties(title=\"Figure 2. Total Gross Revenue per Genre\")\n",
    ")\n",
    "total_gross_plot"
   ]
  },
  {
   "cell_type": "markdown",
   "metadata": {},
   "source": [
    "The **Adventure** genre has the highest total gross revenue, while the **Musical** genre has the **3rd highest** total gross revenue. "
   ]
  },
  {
   "cell_type": "code",
   "execution_count": null,
   "metadata": {},
   "outputs": [
    {
     "data": {
      "text/html": [
       "\n",
       "<div id=\"altair-viz-0ac1cd7ec41d42cb97e4ce0b7b6be8c5\"></div>\n",
       "<script type=\"text/javascript\">\n",
       "  (function(spec, embedOpt){\n",
       "    let outputDiv = document.currentScript.previousElementSibling;\n",
       "    if (outputDiv.id !== \"altair-viz-0ac1cd7ec41d42cb97e4ce0b7b6be8c5\") {\n",
       "      outputDiv = document.getElementById(\"altair-viz-0ac1cd7ec41d42cb97e4ce0b7b6be8c5\");\n",
       "    }\n",
       "    const paths = {\n",
       "      \"vega\": \"https://cdn.jsdelivr.net/npm//vega@5?noext\",\n",
       "      \"vega-lib\": \"https://cdn.jsdelivr.net/npm//vega-lib?noext\",\n",
       "      \"vega-lite\": \"https://cdn.jsdelivr.net/npm//vega-lite@4.8.1?noext\",\n",
       "      \"vega-embed\": \"https://cdn.jsdelivr.net/npm//vega-embed@6?noext\",\n",
       "    };\n",
       "\n",
       "    function loadScript(lib) {\n",
       "      return new Promise(function(resolve, reject) {\n",
       "        var s = document.createElement('script');\n",
       "        s.src = paths[lib];\n",
       "        s.async = true;\n",
       "        s.onload = () => resolve(paths[lib]);\n",
       "        s.onerror = () => reject(`Error loading script: ${paths[lib]}`);\n",
       "        document.getElementsByTagName(\"head\")[0].appendChild(s);\n",
       "      });\n",
       "    }\n",
       "\n",
       "    function showError(err) {\n",
       "      outputDiv.innerHTML = `<div class=\"error\" style=\"color:red;\">${err}</div>`;\n",
       "      throw err;\n",
       "    }\n",
       "\n",
       "    function displayChart(vegaEmbed) {\n",
       "      vegaEmbed(outputDiv, spec, embedOpt)\n",
       "        .catch(err => showError(`Javascript Error: ${err.message}<br>This usually means there's a typo in your chart specification. See the javascript console for the full traceback.`));\n",
       "    }\n",
       "\n",
       "    if(typeof define === \"function\" && define.amd) {\n",
       "      requirejs.config({paths});\n",
       "      require([\"vega-embed\"], displayChart, err => showError(`Error loading script: ${err.message}`));\n",
       "    } else if (typeof vegaEmbed === \"function\") {\n",
       "      displayChart(vegaEmbed);\n",
       "    } else {\n",
       "      loadScript(\"vega\")\n",
       "        .then(() => loadScript(\"vega-lite\"))\n",
       "        .then(() => loadScript(\"vega-embed\"))\n",
       "        .catch(showError)\n",
       "        .then(() => displayChart(vegaEmbed));\n",
       "    }\n",
       "  })({\"config\": {\"view\": {\"continuousWidth\": 400, \"continuousHeight\": 300}}, \"data\": {\"name\": \"data-df72f0dface1eb6ec99e88101dc6908b\"}, \"mark\": \"bar\", \"encoding\": {\"x\": {\"type\": \"nominal\", \"field\": \"genre\", \"sort\": \"-y\", \"title\": \"Genre\"}, \"y\": {\"type\": \"quantitative\", \"field\": \"mean\", \"title\": \"Mean Gross Revenue ($)\"}}, \"height\": 300, \"title\": \"Figure 3. Mean Gross Revenue per Genre\", \"width\": 500, \"$schema\": \"https://vega.github.io/schema/vega-lite/v4.8.1.json\", \"datasets\": {\"data-df72f0dface1eb6ec99e88101dc6908b\": [{\"genre\": \"Action\", \"sum\": 5498936786, \"mean\": 137473419, \"count\": 40}, {\"genre\": \"Adventure\", \"sum\": 24561266158, \"mean\": 190397412, \"count\": 129}, {\"genre\": \"Comedy\", \"sum\": 17355130321, \"mean\": 83438126, \"count\": 208}, {\"genre\": \"Concert/Performance\", \"sum\": 114821678, \"mean\": 57410839, \"count\": 2}, {\"genre\": \"Documentary\", \"sum\": 203488418, \"mean\": 12718026, \"count\": 16}, {\"genre\": \"Drama\", \"sum\": 8195804484, \"mean\": 71893021, \"count\": 114}, {\"genre\": \"Horror/Thriller/Suspense\", \"sum\": 2292174046, \"mean\": 76405801, \"count\": 30}, {\"genre\": \"Musical\", \"sum\": 9657565776, \"mean\": 603597861, \"count\": 16}, {\"genre\": \"Western\", \"sum\": 516709946, \"mean\": 73815706, \"count\": 7}]}}, {\"mode\": \"vega-lite\"});\n",
       "</script>"
      ],
      "text/plain": [
       "alt.Chart(...)"
      ]
     },
     "execution_count": 17,
     "metadata": {},
     "output_type": "execute_result"
    }
   ],
   "source": [
    "mean_gross_plot = (\n",
    "    alt.Chart(stats_df, width=500, height=300)\n",
    "    .mark_bar()\n",
    "    .encode(\n",
    "        x=alt.X(\"genre:N\", title=\"Genre\", sort=\"-y\"),\n",
    "        y=alt.Y(\"mean:Q\", title=\"Mean Gross Revenue ($)\"),\n",
    "    )\n",
    "    .properties(title=\"Figure 3. Mean Gross Revenue per Genre\")\n",
    ")\n",
    "mean_gross_plot"
   ]
  },
  {
   "cell_type": "markdown",
   "metadata": {},
   "source": [
    "The **Musical** genre has the **highest** mean gross revenue. This is inline with my initial expectation that the **Musical** genre would have the highest gross revenue (highest mean gross revenue, 3rd highest total gross revenue) while having fewer movies produced than most genres (3rd fewest)."
   ]
  },
  {
   "cell_type": "markdown",
   "metadata": {},
   "source": [
    "It is quite surprising that the **Musical** genre generates 3x higher mean gross revenue than the next genre despite representing only $16$ of $579$ movies. I suspect this is related to how gross revenue has changed over time. Let's examine the 16 movies in the **Musical** genre and plot how total gross revenue has changed for each decade and over time.  \n",
    "\n",
    "#### Table 11: Movies in the Musical genre"
   ]
  },
  {
   "cell_type": "code",
   "execution_count": null,
   "metadata": {},
   "outputs": [
    {
     "data": {
      "text/html": [
       "<div>\n",
       "<style scoped>\n",
       "    .dataframe tbody tr th:only-of-type {\n",
       "        vertical-align: middle;\n",
       "    }\n",
       "\n",
       "    .dataframe tbody tr th {\n",
       "        vertical-align: top;\n",
       "    }\n",
       "\n",
       "    .dataframe thead th {\n",
       "        text-align: right;\n",
       "    }\n",
       "</style>\n",
       "<table border=\"1\" class=\"dataframe\">\n",
       "  <thead>\n",
       "    <tr style=\"text-align: right;\">\n",
       "      <th></th>\n",
       "      <th>movie_title</th>\n",
       "      <th>genre</th>\n",
       "      <th>inflation_adjusted_gross</th>\n",
       "      <th>year</th>\n",
       "    </tr>\n",
       "  </thead>\n",
       "  <tbody>\n",
       "    <tr>\n",
       "      <th>0</th>\n",
       "      <td>Snow White and the Seven Dwarfs</td>\n",
       "      <td>Musical</td>\n",
       "      <td>5228953251</td>\n",
       "      <td>1937</td>\n",
       "    </tr>\n",
       "    <tr>\n",
       "      <th>2</th>\n",
       "      <td>Fantasia</td>\n",
       "      <td>Musical</td>\n",
       "      <td>2187090808</td>\n",
       "      <td>1940</td>\n",
       "    </tr>\n",
       "    <tr>\n",
       "      <th>10</th>\n",
       "      <td>Babes in Toyland</td>\n",
       "      <td>Musical</td>\n",
       "      <td>124841160</td>\n",
       "      <td>1961</td>\n",
       "    </tr>\n",
       "    <tr>\n",
       "      <th>13</th>\n",
       "      <td>The Jungle Book</td>\n",
       "      <td>Musical</td>\n",
       "      <td>789612346</td>\n",
       "      <td>1967</td>\n",
       "    </tr>\n",
       "    <tr>\n",
       "      <th>15</th>\n",
       "      <td>The Aristocats</td>\n",
       "      <td>Musical</td>\n",
       "      <td>255161499</td>\n",
       "      <td>1970</td>\n",
       "    </tr>\n",
       "    <tr>\n",
       "      <th>17</th>\n",
       "      <td>Bedknobs and Broomsticks</td>\n",
       "      <td>Musical</td>\n",
       "      <td>91305448</td>\n",
       "      <td>1971</td>\n",
       "    </tr>\n",
       "    <tr>\n",
       "      <th>114</th>\n",
       "      <td>Beauty and the Beast</td>\n",
       "      <td>Musical</td>\n",
       "      <td>363017667</td>\n",
       "      <td>1991</td>\n",
       "    </tr>\n",
       "    <tr>\n",
       "      <th>142</th>\n",
       "      <td>Swing Kids</td>\n",
       "      <td>Musical</td>\n",
       "      <td>11468231</td>\n",
       "      <td>1993</td>\n",
       "    </tr>\n",
       "    <tr>\n",
       "      <th>161</th>\n",
       "      <td>The Nightmare Before Christmas</td>\n",
       "      <td>Musical</td>\n",
       "      <td>100026637</td>\n",
       "      <td>1993</td>\n",
       "    </tr>\n",
       "    <tr>\n",
       "      <th>254</th>\n",
       "      <td>Evita</td>\n",
       "      <td>Musical</td>\n",
       "      <td>92077628</td>\n",
       "      <td>1996</td>\n",
       "    </tr>\n",
       "    <tr>\n",
       "      <th>321</th>\n",
       "      <td>Fantasia 2000 (IMAX)</td>\n",
       "      <td>Musical</td>\n",
       "      <td>94852354</td>\n",
       "      <td>2000</td>\n",
       "    </tr>\n",
       "    <tr>\n",
       "      <th>330</th>\n",
       "      <td>Fantasia 2000 (Theatrical Release)</td>\n",
       "      <td>Musical</td>\n",
       "      <td>14238144</td>\n",
       "      <td>2000</td>\n",
       "    </tr>\n",
       "    <tr>\n",
       "      <th>354</th>\n",
       "      <td>Beauty and the Beast (IMAX)</td>\n",
       "      <td>Musical</td>\n",
       "      <td>36980311</td>\n",
       "      <td>2002</td>\n",
       "    </tr>\n",
       "    <tr>\n",
       "      <th>446</th>\n",
       "      <td>Tim Burton's The Nightmare Before Chr…</td>\n",
       "      <td>Musical</td>\n",
       "      <td>30737517</td>\n",
       "      <td>2006</td>\n",
       "    </tr>\n",
       "    <tr>\n",
       "      <th>474</th>\n",
       "      <td>High School Musical 3: Senior Year</td>\n",
       "      <td>Musical</td>\n",
       "      <td>106308538</td>\n",
       "      <td>2008</td>\n",
       "    </tr>\n",
       "    <tr>\n",
       "      <th>553</th>\n",
       "      <td>Into the Woods</td>\n",
       "      <td>Musical</td>\n",
       "      <td>130894237</td>\n",
       "      <td>2014</td>\n",
       "    </tr>\n",
       "  </tbody>\n",
       "</table>\n",
       "</div>"
      ],
      "text/plain": [
       "                                movie_title    genre  \\\n",
       "0           Snow White and the Seven Dwarfs  Musical   \n",
       "2                                  Fantasia  Musical   \n",
       "10                         Babes in Toyland  Musical   \n",
       "13                          The Jungle Book  Musical   \n",
       "15                           The Aristocats  Musical   \n",
       "17                 Bedknobs and Broomsticks  Musical   \n",
       "114                    Beauty and the Beast  Musical   \n",
       "142                              Swing Kids  Musical   \n",
       "161          The Nightmare Before Christmas  Musical   \n",
       "254                                   Evita  Musical   \n",
       "321                    Fantasia 2000 (IMAX)  Musical   \n",
       "330      Fantasia 2000 (Theatrical Release)  Musical   \n",
       "354             Beauty and the Beast (IMAX)  Musical   \n",
       "446  Tim Burton's The Nightmare Before Chr…  Musical   \n",
       "474      High School Musical 3: Senior Year  Musical   \n",
       "553                          Into the Woods  Musical   \n",
       "\n",
       "     inflation_adjusted_gross  year  \n",
       "0                  5228953251  1937  \n",
       "2                  2187090808  1940  \n",
       "10                  124841160  1961  \n",
       "13                  789612346  1967  \n",
       "15                  255161499  1970  \n",
       "17                   91305448  1971  \n",
       "114                 363017667  1991  \n",
       "142                  11468231  1993  \n",
       "161                 100026637  1993  \n",
       "254                  92077628  1996  \n",
       "321                  94852354  2000  \n",
       "330                  14238144  2000  \n",
       "354                  36980311  2002  \n",
       "446                  30737517  2006  \n",
       "474                 106308538  2008  \n",
       "553                 130894237  2014  "
      ]
     },
     "execution_count": 18,
     "metadata": {},
     "output_type": "execute_result"
    }
   ],
   "source": [
    "musical_df = clean_movie_genre_gross.loc[clean_movie_genre_gross[\"genre\"].str.fullmatch(\"Musical\")].sort_values(by=\"year\")\n",
    "musical_df"
   ]
  },
  {
   "cell_type": "code",
   "execution_count": null,
   "metadata": {},
   "outputs": [
    {
     "data": {
      "text/html": [
       "\n",
       "<div id=\"altair-viz-e8d4a2132b66451889176334e4c4756b\"></div>\n",
       "<script type=\"text/javascript\">\n",
       "  (function(spec, embedOpt){\n",
       "    let outputDiv = document.currentScript.previousElementSibling;\n",
       "    if (outputDiv.id !== \"altair-viz-e8d4a2132b66451889176334e4c4756b\") {\n",
       "      outputDiv = document.getElementById(\"altair-viz-e8d4a2132b66451889176334e4c4756b\");\n",
       "    }\n",
       "    const paths = {\n",
       "      \"vega\": \"https://cdn.jsdelivr.net/npm//vega@5?noext\",\n",
       "      \"vega-lib\": \"https://cdn.jsdelivr.net/npm//vega-lib?noext\",\n",
       "      \"vega-lite\": \"https://cdn.jsdelivr.net/npm//vega-lite@4.8.1?noext\",\n",
       "      \"vega-embed\": \"https://cdn.jsdelivr.net/npm//vega-embed@6?noext\",\n",
       "    };\n",
       "\n",
       "    function loadScript(lib) {\n",
       "      return new Promise(function(resolve, reject) {\n",
       "        var s = document.createElement('script');\n",
       "        s.src = paths[lib];\n",
       "        s.async = true;\n",
       "        s.onload = () => resolve(paths[lib]);\n",
       "        s.onerror = () => reject(`Error loading script: ${paths[lib]}`);\n",
       "        document.getElementsByTagName(\"head\")[0].appendChild(s);\n",
       "      });\n",
       "    }\n",
       "\n",
       "    function showError(err) {\n",
       "      outputDiv.innerHTML = `<div class=\"error\" style=\"color:red;\">${err}</div>`;\n",
       "      throw err;\n",
       "    }\n",
       "\n",
       "    function displayChart(vegaEmbed) {\n",
       "      vegaEmbed(outputDiv, spec, embedOpt)\n",
       "        .catch(err => showError(`Javascript Error: ${err.message}<br>This usually means there's a typo in your chart specification. See the javascript console for the full traceback.`));\n",
       "    }\n",
       "\n",
       "    if(typeof define === \"function\" && define.amd) {\n",
       "      requirejs.config({paths});\n",
       "      require([\"vega-embed\"], displayChart, err => showError(`Error loading script: ${err.message}`));\n",
       "    } else if (typeof vegaEmbed === \"function\") {\n",
       "      displayChart(vegaEmbed);\n",
       "    } else {\n",
       "      loadScript(\"vega\")\n",
       "        .then(() => loadScript(\"vega-lite\"))\n",
       "        .then(() => loadScript(\"vega-embed\"))\n",
       "        .catch(showError)\n",
       "        .then(() => displayChart(vegaEmbed));\n",
       "    }\n",
       "  })({\"config\": {\"view\": {\"continuousWidth\": 400, \"continuousHeight\": 300}}, \"data\": {\"name\": \"data-f82f0199c14667e3be25b9b736f52711\"}, \"mark\": \"bar\", \"encoding\": {\"x\": {\"type\": \"nominal\", \"bin\": {\"maxbins\": 8}, \"field\": \"year\", \"title\": \"Year\"}, \"y\": {\"type\": \"quantitative\", \"field\": \"inflation_adjusted_gross\", \"sort\": \"x\", \"title\": \"Gross Revenue\"}}, \"height\": 300, \"title\": \"Figure 4. Musical Total Gross Revenue by decade\", \"width\": 500, \"$schema\": \"https://vega.github.io/schema/vega-lite/v4.8.1.json\", \"datasets\": {\"data-f82f0199c14667e3be25b9b736f52711\": [{\"movie_title\": \"Snow White and the Seven Dwarfs\", \"genre\": \"Musical\", \"inflation_adjusted_gross\": 5228953251, \"year\": 1937}, {\"movie_title\": \"Fantasia\", \"genre\": \"Musical\", \"inflation_adjusted_gross\": 2187090808, \"year\": 1940}, {\"movie_title\": \"Babes in Toyland\", \"genre\": \"Musical\", \"inflation_adjusted_gross\": 124841160, \"year\": 1961}, {\"movie_title\": \"The Jungle Book\", \"genre\": \"Musical\", \"inflation_adjusted_gross\": 789612346, \"year\": 1967}, {\"movie_title\": \"The Aristocats\", \"genre\": \"Musical\", \"inflation_adjusted_gross\": 255161499, \"year\": 1970}, {\"movie_title\": \"Bedknobs and Broomsticks\", \"genre\": \"Musical\", \"inflation_adjusted_gross\": 91305448, \"year\": 1971}, {\"movie_title\": \"Beauty and the Beast\", \"genre\": \"Musical\", \"inflation_adjusted_gross\": 363017667, \"year\": 1991}, {\"movie_title\": \"Swing Kids\", \"genre\": \"Musical\", \"inflation_adjusted_gross\": 11468231, \"year\": 1993}, {\"movie_title\": \"The Nightmare Before Christmas\", \"genre\": \"Musical\", \"inflation_adjusted_gross\": 100026637, \"year\": 1993}, {\"movie_title\": \"Evita\", \"genre\": \"Musical\", \"inflation_adjusted_gross\": 92077628, \"year\": 1996}, {\"movie_title\": \"Fantasia 2000 (IMAX)\", \"genre\": \"Musical\", \"inflation_adjusted_gross\": 94852354, \"year\": 2000}, {\"movie_title\": \"Fantasia 2000 (Theatrical Release)\", \"genre\": \"Musical\", \"inflation_adjusted_gross\": 14238144, \"year\": 2000}, {\"movie_title\": \"Beauty and the Beast (IMAX)\", \"genre\": \"Musical\", \"inflation_adjusted_gross\": 36980311, \"year\": 2002}, {\"movie_title\": \"Tim Burton's The Nightmare Before Chr\\u2026\", \"genre\": \"Musical\", \"inflation_adjusted_gross\": 30737517, \"year\": 2006}, {\"movie_title\": \"High School Musical 3: Senior Year\", \"genre\": \"Musical\", \"inflation_adjusted_gross\": 106308538, \"year\": 2008}, {\"movie_title\": \"Into the Woods\", \"genre\": \"Musical\", \"inflation_adjusted_gross\": 130894237, \"year\": 2014}]}}, {\"mode\": \"vega-lite\"});\n",
       "</script>"
      ],
      "text/plain": [
       "alt.Chart(...)"
      ]
     },
     "execution_count": 19,
     "metadata": {},
     "output_type": "execute_result"
    }
   ],
   "source": [
    "musical_plot = (\n",
    "    alt.Chart(musical_df, width=500, height=300)\n",
    "    .mark_bar()\n",
    "    .encode(\n",
    "        x=alt.X(\"year:N\", title=\"Year\", bin=alt.Bin(maxbins=8)),\n",
    "        y=alt.Y(\"inflation_adjusted_gross:Q\", title=\"Gross Revenue\", sort=\"x\"),\n",
    "    )\n",
    "    .properties(title=\"Figure 4. Musical Total Gross Revenue by decade\")\n",
    ")\n",
    "musical_plot"
   ]
  },
  {
   "cell_type": "code",
   "execution_count": null,
   "metadata": {},
   "outputs": [
    {
     "data": {
      "text/html": [
       "\n",
       "<div id=\"altair-viz-1fa25296244b4ee7b324d246c1c30150\"></div>\n",
       "<script type=\"text/javascript\">\n",
       "  (function(spec, embedOpt){\n",
       "    let outputDiv = document.currentScript.previousElementSibling;\n",
       "    if (outputDiv.id !== \"altair-viz-1fa25296244b4ee7b324d246c1c30150\") {\n",
       "      outputDiv = document.getElementById(\"altair-viz-1fa25296244b4ee7b324d246c1c30150\");\n",
       "    }\n",
       "    const paths = {\n",
       "      \"vega\": \"https://cdn.jsdelivr.net/npm//vega@5?noext\",\n",
       "      \"vega-lib\": \"https://cdn.jsdelivr.net/npm//vega-lib?noext\",\n",
       "      \"vega-lite\": \"https://cdn.jsdelivr.net/npm//vega-lite@4.8.1?noext\",\n",
       "      \"vega-embed\": \"https://cdn.jsdelivr.net/npm//vega-embed@6?noext\",\n",
       "    };\n",
       "\n",
       "    function loadScript(lib) {\n",
       "      return new Promise(function(resolve, reject) {\n",
       "        var s = document.createElement('script');\n",
       "        s.src = paths[lib];\n",
       "        s.async = true;\n",
       "        s.onload = () => resolve(paths[lib]);\n",
       "        s.onerror = () => reject(`Error loading script: ${paths[lib]}`);\n",
       "        document.getElementsByTagName(\"head\")[0].appendChild(s);\n",
       "      });\n",
       "    }\n",
       "\n",
       "    function showError(err) {\n",
       "      outputDiv.innerHTML = `<div class=\"error\" style=\"color:red;\">${err}</div>`;\n",
       "      throw err;\n",
       "    }\n",
       "\n",
       "    function displayChart(vegaEmbed) {\n",
       "      vegaEmbed(outputDiv, spec, embedOpt)\n",
       "        .catch(err => showError(`Javascript Error: ${err.message}<br>This usually means there's a typo in your chart specification. See the javascript console for the full traceback.`));\n",
       "    }\n",
       "\n",
       "    if(typeof define === \"function\" && define.amd) {\n",
       "      requirejs.config({paths});\n",
       "      require([\"vega-embed\"], displayChart, err => showError(`Error loading script: ${err.message}`));\n",
       "    } else if (typeof vegaEmbed === \"function\") {\n",
       "      displayChart(vegaEmbed);\n",
       "    } else {\n",
       "      loadScript(\"vega\")\n",
       "        .then(() => loadScript(\"vega-lite\"))\n",
       "        .then(() => loadScript(\"vega-embed\"))\n",
       "        .catch(showError)\n",
       "        .then(() => displayChart(vegaEmbed));\n",
       "    }\n",
       "  })({\"config\": {\"view\": {\"continuousWidth\": 400, \"continuousHeight\": 300}}, \"data\": {\"name\": \"data-f82f0199c14667e3be25b9b736f52711\"}, \"mark\": \"circle\", \"encoding\": {\"x\": {\"type\": \"nominal\", \"field\": \"year\", \"title\": \"Year\"}, \"y\": {\"type\": \"quantitative\", \"field\": \"inflation_adjusted_gross\", \"sort\": \"x\", \"title\": \"Gross Revenue\"}}, \"height\": 300, \"title\": \"Figure 5. Musical Gross Revenue by movie\", \"width\": 500, \"$schema\": \"https://vega.github.io/schema/vega-lite/v4.8.1.json\", \"datasets\": {\"data-f82f0199c14667e3be25b9b736f52711\": [{\"movie_title\": \"Snow White and the Seven Dwarfs\", \"genre\": \"Musical\", \"inflation_adjusted_gross\": 5228953251, \"year\": 1937}, {\"movie_title\": \"Fantasia\", \"genre\": \"Musical\", \"inflation_adjusted_gross\": 2187090808, \"year\": 1940}, {\"movie_title\": \"Babes in Toyland\", \"genre\": \"Musical\", \"inflation_adjusted_gross\": 124841160, \"year\": 1961}, {\"movie_title\": \"The Jungle Book\", \"genre\": \"Musical\", \"inflation_adjusted_gross\": 789612346, \"year\": 1967}, {\"movie_title\": \"The Aristocats\", \"genre\": \"Musical\", \"inflation_adjusted_gross\": 255161499, \"year\": 1970}, {\"movie_title\": \"Bedknobs and Broomsticks\", \"genre\": \"Musical\", \"inflation_adjusted_gross\": 91305448, \"year\": 1971}, {\"movie_title\": \"Beauty and the Beast\", \"genre\": \"Musical\", \"inflation_adjusted_gross\": 363017667, \"year\": 1991}, {\"movie_title\": \"Swing Kids\", \"genre\": \"Musical\", \"inflation_adjusted_gross\": 11468231, \"year\": 1993}, {\"movie_title\": \"The Nightmare Before Christmas\", \"genre\": \"Musical\", \"inflation_adjusted_gross\": 100026637, \"year\": 1993}, {\"movie_title\": \"Evita\", \"genre\": \"Musical\", \"inflation_adjusted_gross\": 92077628, \"year\": 1996}, {\"movie_title\": \"Fantasia 2000 (IMAX)\", \"genre\": \"Musical\", \"inflation_adjusted_gross\": 94852354, \"year\": 2000}, {\"movie_title\": \"Fantasia 2000 (Theatrical Release)\", \"genre\": \"Musical\", \"inflation_adjusted_gross\": 14238144, \"year\": 2000}, {\"movie_title\": \"Beauty and the Beast (IMAX)\", \"genre\": \"Musical\", \"inflation_adjusted_gross\": 36980311, \"year\": 2002}, {\"movie_title\": \"Tim Burton's The Nightmare Before Chr\\u2026\", \"genre\": \"Musical\", \"inflation_adjusted_gross\": 30737517, \"year\": 2006}, {\"movie_title\": \"High School Musical 3: Senior Year\", \"genre\": \"Musical\", \"inflation_adjusted_gross\": 106308538, \"year\": 2008}, {\"movie_title\": \"Into the Woods\", \"genre\": \"Musical\", \"inflation_adjusted_gross\": 130894237, \"year\": 2014}]}}, {\"mode\": \"vega-lite\"});\n",
       "</script>"
      ],
      "text/plain": [
       "alt.Chart(...)"
      ]
     },
     "execution_count": 20,
     "metadata": {},
     "output_type": "execute_result"
    }
   ],
   "source": [
    "musical_plot = (\n",
    "    alt.Chart(musical_df, width=500, height=300)\n",
    "    .mark_circle()\n",
    "    .encode(\n",
    "        x=alt.X(\"year:N\", title=\"Year\"),\n",
    "        y=alt.Y(\"inflation_adjusted_gross:Q\", title=\"Gross Revenue\", sort=\"x\"),\n",
    "    )\n",
    "    .properties(title=\"Figure 5. Musical Gross Revenue by movie\")\n",
    ")\n",
    "musical_plot"
   ]
  },
  {
   "cell_type": "markdown",
   "metadata": {},
   "source": [
    "Note that total gross revenue is dominated by the 2 early Disney musicals **Snow White and the Seven Dwarfs** and **Fantasia** and has declined significantly over time.  "
   ]
  },
  {
   "cell_type": "markdown",
   "metadata": {},
   "source": [
    "# Discussions\n",
    "\n",
    "I analysed the Disney dataset for which genre had the highest gross revenue compared to movies produced. Before answering this question, I did some exploratory analysis on the different genres of movies. I observed that movies with no genre generate < 1% of total gross revenue and thus can be excluded from this analysis. I observed that there are a few genres of movies that most moviegoers would consider similar like Comedy and Romantic Comedy that should be combined for this analysis.  \n",
    "\n",
    "I found there are two ways to look that which genre has the highest gross revenue, either the **total** for all movies or the **mean** per movie. Generally the genres with the most movies (**Comedy** and **Adventure**) had the highest total gross revenue. However, the **Musical** genre had highest mean gross revenue, nearly 3x more than the next genre (**Adventure**), and 6x more than the genre with the most movies (**Comedy**) despite the **Musical** genre representing only $16$ of $579$ movies! \n",
    "\n",
    "I further explored the **Musical** genre and found that 2 outliers (**Fantasia** and **Snow White and the Seven Dwarfs**) make up most of gross revenue, and that gross revenue per movie has decreased significantly over time. I was surprised to see this as High School Musical was a huge hit for Disney in the 2000s and missing from the Disney dataset. Turns out that High School Musical and the sequel High School Musical 2 were not theatrical releases and thus not included in the Disney dataset. \n",
    "\n",
    "Another question that could be looked at given this dataset is how gross revenue changes over time with respect to genre. This is interesting to show how trends in audience tastes are related to the number of movies produced. For the past decade superhero (**Adventure**) movies have dominated the summer box office, has this resulted in superhero movies dominating the number of movies produced? "
   ]
  },
  {
   "cell_type": "markdown",
   "metadata": {},
   "source": [
    "# References\n",
    "\n",
    "Not all the work in this notebook is original. Parts were borrowed from online resources and I take no credit for parts that are not mine. They were soley used for illustration purposes. \n",
    "\n",
    "## Resources used\n",
    "* [Data Source](https://data.world/kgarrett/disney-character-success-00-16)\n",
    "    * This Disney database used in this work was curated by **Kelly Garrett**.\n",
    "* [Data Visualization](https://data.world/kgarrett/disney-character-success-00-16/workspace/file?filename=DisneyReport.pdf)\n",
    "    * Inspiration for plotting the average gross revenue over the years was taken from **Kelly Garrett and Lichen Zhen**.\n",
    "* [Question Of Interest](https://data.world/kgarrett/disney-character-success-00-16/workspace/file?filename=DisneyReport.pdf)\n",
    "    * The question of interest was inspired by **Kelly Garrett and Lichen Zhen**.\n",
    "* [High School Musical (franchise)](https://en.wikipedia.org/wiki/High_School_Musical_(franchise))\n",
    "    * Reason why High School Musical and High School Musical 2 are not included in the Disney database."
   ]
  }
 ],
 "metadata": {
  "kernelspec": {
   "display_name": "Python 3",
   "language": "python",
   "name": "python3"
  },
  "language_info": {
   "codemirror_mode": {
    "name": "ipython",
    "version": 3
   },
   "file_extension": ".py",
   "mimetype": "text/x-python",
   "name": "python",
   "nbconvert_exporter": "python",
   "pygments_lexer": "ipython3",
   "version": "3.11.9"
  }
 },
 "nbformat": 4,
 "nbformat_minor": 4
}
